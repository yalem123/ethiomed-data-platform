{
  "nbformat": 4,
  "nbformat_minor": 0,
  "metadata": {
    "colab": {
      "provenance": [],
      "authorship_tag": "ABX9TyP4RK7bze19tOXONzK8Wz0k",
      "include_colab_link": true
    },
    "kernelspec": {
      "name": "python3",
      "display_name": "Python 3"
    },
    "language_info": {
      "name": "python"
    }
  },
  "cells": [
    {
      "cell_type": "markdown",
      "metadata": {
        "id": "view-in-github",
        "colab_type": "text"
      },
      "source": [
        "<a href=\"https://colab.research.google.com/github/yalem123/ethiomed-data-platform/blob/main/ethiomed_data_platform.ipynb\" target=\"_parent\"><img src=\"https://colab.research.google.com/assets/colab-badge.svg\" alt=\"Open In Colab\"/></a>"
      ]
    },
    {
      "cell_type": "code",
      "execution_count": 19,
      "metadata": {
        "colab": {
          "base_uri": "https://localhost:8080/"
        },
        "id": "vbm5fTgsw120",
        "outputId": "a591ece8-687c-4574-90b4-7347b118fac3"
      },
      "outputs": [
        {
          "output_type": "stream",
          "name": "stdout",
          "text": [
            "API ID: None\n",
            "API Hash: None\n"
          ]
        }
      ],
      "source": [
        "from dotenv import load_dotenv\n",
        "import os\n",
        "\n",
        "load_dotenv()\n",
        "\n",
        "api_id = os.getenv(\"25991276\")\n",
        "api_hash = os.getenv(\"e3d945cb43e690489f6dbda63cd236e8\")\n",
        "\n",
        "print(\"API ID:\", api_id)\n",
        "print(\"API Hash:\", api_hash)"
      ]
    },
    {
      "cell_type": "code",
      "source": [
        "\n",
        "%%writefile .env\n",
        "TELEGRAM_API_ID=25991276\n",
        "TELEGRAM_API_HASH=e3d945cb43e690489f6dbda63cd236e8\n",
        "\n"
      ],
      "metadata": {
        "colab": {
          "base_uri": "https://localhost:8080/"
        },
        "id": "veJ7Ck1GBb4G",
        "outputId": "28fa8d46-b526-497f-b554-2e50ae80ca00"
      },
      "execution_count": 18,
      "outputs": [
        {
          "output_type": "stream",
          "name": "stdout",
          "text": [
            "Overwriting .env\n"
          ]
        }
      ]
    },
    {
      "cell_type": "code",
      "source": [
        "print(\"API ID:\", api_id)\n",
        "print(\"API Hash:\", api_hash)"
      ],
      "metadata": {
        "colab": {
          "base_uri": "https://localhost:8080/"
        },
        "id": "zQEulL0Uz_7C",
        "outputId": "adefc0c9-617a-4a62-e24b-80a5c0952b12"
      },
      "execution_count": 20,
      "outputs": [
        {
          "output_type": "stream",
          "name": "stdout",
          "text": [
            "API ID: None\n",
            "API Hash: None\n"
          ]
        }
      ]
    },
    {
      "cell_type": "code",
      "source": [
        "!pip install python-dotenv\n",
        "\n",
        "from dotenv import load_dotenv\n",
        "import os\n",
        "\n",
        "# Load the .env file\n",
        "load_dotenv(dotenv_path='.env')\n",
        "\n",
        "# Access the variables\n",
        "api_id = os.getenv(\"25991276\")\n",
        "api_hash = os.getenv(\"e3d945cb43e690489f6dbda63cd236e8\")\n",
        "\n",
        "print(\"API ID:\", api_id)\n",
        "print(\"API Hash:\", api_hash)\n",
        "\n"
      ],
      "metadata": {
        "colab": {
          "base_uri": "https://localhost:8080/"
        },
        "id": "3nXByE_80LyV",
        "outputId": "776d2020-cff6-4e51-be4e-9112a3688156"
      },
      "execution_count": 23,
      "outputs": [
        {
          "output_type": "stream",
          "name": "stdout",
          "text": [
            "Requirement already satisfied: python-dotenv in /usr/local/lib/python3.11/dist-packages (1.1.1)\n",
            "API ID: None\n",
            "API Hash: None\n"
          ]
        }
      ]
    },
    {
      "cell_type": "code",
      "source": [
        "from dotenv import load_dotenv\n",
        "import os\n",
        "\n",
        "load_dotenv()\n",
        "\n",
        "api_id = int(os.getenv(\"TELEGRAM_API_ID\"))\n",
        "api_hash = os.getenv(\"TELEGRAM_API_HASH\")\n",
        "\n",
        "print(\"API ID:\", api_id)\n",
        "print(\"API Hash:\", api_hash)\n"
      ],
      "metadata": {
        "colab": {
          "base_uri": "https://localhost:8080/"
        },
        "id": "oAFf0ww5Bn70",
        "outputId": "ca768ff2-fcb5-4116-caac-d8ab63d65b6a"
      },
      "execution_count": 24,
      "outputs": [
        {
          "output_type": "stream",
          "name": "stdout",
          "text": [
            "API ID: 25991276\n",
            "API Hash: e3d945cb43e690489f6dbda63cd236e8\n"
          ]
        }
      ]
    },
    {
      "cell_type": "code",
      "source": [
        "print(dict(os.environ))\n"
      ],
      "metadata": {
        "colab": {
          "base_uri": "https://localhost:8080/"
        },
        "id": "cjqK-qX10juZ",
        "outputId": "b14785c5-e232-4cc1-b4bf-426cef1a2589"
      },
      "execution_count": 25,
      "outputs": [
        {
          "output_type": "stream",
          "name": "stdout",
          "text": [
            "{'SHELL': '/bin/bash', 'NV_LIBCUBLAS_VERSION': '12.5.3.2-1', 'NVIDIA_VISIBLE_DEVICES': 'all', 'COLAB_JUPYTER_TRANSPORT': 'ipc', 'NV_NVML_DEV_VERSION': '12.5.82-1', 'NV_CUDNN_PACKAGE_NAME': 'libcudnn9-cuda-12', 'CGROUP_MEMORY_EVENTS': '/sys/fs/cgroup/memory.events /var/colab/cgroup/jupyter-children/memory.events', 'NV_LIBNCCL_DEV_PACKAGE': 'libnccl-dev=2.22.3-1+cuda12.5', 'NV_LIBNCCL_DEV_PACKAGE_VERSION': '2.22.3-1', 'VM_GCE_METADATA_HOST': '169.254.169.253', 'MODEL_PROXY_HOST': 'https://mp.kaggle.net', 'HOSTNAME': '1fb7de5fbc04', 'LANGUAGE': 'en_US', 'TBE_RUNTIME_ADDR': '172.28.0.1:8011', 'COLAB_TPU_1VM': '', 'GCE_METADATA_TIMEOUT': '3', 'NVIDIA_REQUIRE_CUDA': 'cuda>=12.5 brand=unknown,driver>=470,driver<471 brand=grid,driver>=470,driver<471 brand=tesla,driver>=470,driver<471 brand=nvidia,driver>=470,driver<471 brand=quadro,driver>=470,driver<471 brand=quadrortx,driver>=470,driver<471 brand=nvidiartx,driver>=470,driver<471 brand=vapps,driver>=470,driver<471 brand=vpc,driver>=470,driver<471 brand=vcs,driver>=470,driver<471 brand=vws,driver>=470,driver<471 brand=cloudgaming,driver>=470,driver<471 brand=unknown,driver>=535,driver<536 brand=grid,driver>=535,driver<536 brand=tesla,driver>=535,driver<536 brand=nvidia,driver>=535,driver<536 brand=quadro,driver>=535,driver<536 brand=quadrortx,driver>=535,driver<536 brand=nvidiartx,driver>=535,driver<536 brand=vapps,driver>=535,driver<536 brand=vpc,driver>=535,driver<536 brand=vcs,driver>=535,driver<536 brand=vws,driver>=535,driver<536 brand=cloudgaming,driver>=535,driver<536 brand=unknown,driver>=550,driver<551 brand=grid,driver>=550,driver<551 brand=tesla,driver>=550,driver<551 brand=nvidia,driver>=550,driver<551 brand=quadro,driver>=550,driver<551 brand=quadrortx,driver>=550,driver<551 brand=nvidiartx,driver>=550,driver<551 brand=vapps,driver>=550,driver<551 brand=vpc,driver>=550,driver<551 brand=vcs,driver>=550,driver<551 brand=vws,driver>=550,driver<551 brand=cloudgaming,driver>=550,driver<551', 'NV_LIBCUBLAS_DEV_PACKAGE': 'libcublas-dev-12-5=12.5.3.2-1', 'NV_NVTX_VERSION': '12.5.82-1', 'COLAB_JUPYTER_IP': '172.28.0.12', 'NV_CUDA_CUDART_DEV_VERSION': '12.5.82-1', 'NV_LIBCUSPARSE_VERSION': '12.5.1.3-1', 'COLAB_LANGUAGE_SERVER_PROXY_ROOT_URL': 'http://172.28.0.1:8013/', 'NV_LIBNPP_VERSION': '12.3.0.159-1', 'NCCL_VERSION': '2.22.3-1', 'KMP_LISTEN_PORT': '6000', 'TF_FORCE_GPU_ALLOW_GROWTH': 'true', 'ENV': '/root/.bashrc', 'PWD': '/', 'COLAB_LANGUAGE_SERVER_PROXY_REQUEST_TIMEOUT': '30s', 'TBE_EPHEM_CREDS_ADDR': '172.28.0.1:8009', 'TBE_CREDS_ADDR': '172.28.0.1:8008', 'NV_CUDNN_PACKAGE': 'libcudnn9-cuda-12=9.2.1.18-1', 'NVIDIA_DRIVER_CAPABILITIES': 'compute,utility', 'COLAB_JUPYTER_TOKEN': '', 'LAST_FORCED_REBUILD': '20250623', 'NV_NVPROF_DEV_PACKAGE': 'cuda-nvprof-12-5=12.5.82-1', 'NV_LIBNPP_PACKAGE': 'libnpp-12-5=12.3.0.159-1', 'NV_LIBNCCL_DEV_PACKAGE_NAME': 'libnccl-dev', 'TCLLIBPATH': '/usr/share/tcltk/tcllib1.20', 'NV_LIBCUBLAS_DEV_VERSION': '12.5.3.2-1', 'NVIDIA_PRODUCT_NAME': 'CUDA', 'COLAB_KERNEL_MANAGER_PROXY_HOST': '172.28.0.12', 'UV_BUILD_CONSTRAINT': '', 'NV_LIBCUBLAS_DEV_PACKAGE_NAME': 'libcublas-dev-12-5', 'NV_CUDA_CUDART_VERSION': '12.5.82-1', 'COLAB_WARMUP_DEFAULTS': '1', 'HOME': '/root', 'LANG': 'en_US.UTF-8', 'CUDA_VERSION': '12.5.1', 'CLOUDSDK_CONFIG': '/content/.config', 'NV_LIBCUBLAS_PACKAGE': 'libcublas-12-5=12.5.3.2-1', 'NV_CUDA_NSIGHT_COMPUTE_DEV_PACKAGE': 'cuda-nsight-compute-12-5=12.5.1-1', 'UV_SYSTEM_PYTHON': 'true', 'COLAB_RELEASE_TAG': 'release-colab_20250805-060112_RC01', 'KMP_TARGET_PORT': '9000', 'KMP_EXTRA_ARGS': '--logtostderr --listen_host=172.28.0.12 --target_host=172.28.0.12 --tunnel_background_save_url=https://colab.research.google.com/tun/m/cc48301118ce562b961b3c22d803539adc1e0c19/m-s-3ib885savjl5s --tunnel_background_save_delay=10s --tunnel_periodic_background_save_frequency=30m0s --enable_output_coalescing=true --output_coalescing_required=true ', 'UV_INSTALL_DIR': '/usr/local/bin', 'NV_LIBNPP_DEV_PACKAGE': 'libnpp-dev-12-5=12.3.0.159-1', 'COLAB_LANGUAGE_SERVER_PROXY_LSP_DIRS': '/datalab/web/pyright/typeshed-fallback/stdlib,/usr/local/lib/python3.10/dist-packages', 'NV_LIBCUBLAS_PACKAGE_NAME': 'libcublas-12-5', 'COLAB_KERNEL_MANAGER_PROXY_PORT': '6000', 'CLOUDSDK_PYTHON': 'python3', 'NV_LIBNPP_DEV_VERSION': '12.3.0.159-1', 'NO_GCE_CHECK': 'False', 'PYTHONPATH': '/env/python', 'NV_LIBCUSPARSE_DEV_VERSION': '12.5.1.3-1', 'LIBRARY_PATH': '/usr/local/cuda/lib64/stubs', 'NV_CUDNN_VERSION': '9.2.1.18-1', 'SHLVL': '0', 'NV_CUDA_LIB_VERSION': '12.5.1-1', 'COLAB_LANGUAGE_SERVER_PROXY': '/usr/colab/bin/language_service', 'NVARCH': 'x86_64', 'UV_CONSTRAINT': '', 'PYTHONUTF8': '1', 'NV_CUDNN_PACKAGE_DEV': 'libcudnn9-dev-cuda-12=9.2.1.18-1', 'NV_LIBNCCL_PACKAGE': 'libnccl2=2.22.3-1+cuda12.5', 'LD_LIBRARY_PATH': '/usr/local/nvidia/lib:/usr/local/nvidia/lib64', 'COLAB_GPU': '', 'NV_CUDA_NSIGHT_COMPUTE_VERSION': '12.5.1-1', 'GCS_READ_CACHE_BLOCK_SIZE_MB': '16', 'NV_NVPROF_VERSION': '12.5.82-1', 'LC_ALL': 'en_US.UTF-8', 'COLAB_FILE_HANDLER_ADDR': 'localhost:3453', 'PATH': '/opt/bin:/usr/local/nvidia/bin:/usr/local/cuda/bin:/usr/local/sbin:/usr/local/bin:/usr/sbin:/usr/bin:/sbin:/bin:/tools/node/bin:/tools/google-cloud-sdk/bin', 'NV_LIBNCCL_PACKAGE_NAME': 'libnccl2', 'COLAB_DEBUG_ADAPTER_MUX_PATH': '/usr/local/bin/dap_multiplexer', 'NV_LIBNCCL_PACKAGE_VERSION': '2.22.3-1', 'PYTHONWARNINGS': 'ignore:::pip._internal.cli.base_command', 'DEBIAN_FRONTEND': 'noninteractive', 'COLAB_BACKEND_VERSION': 'next', 'OLDPWD': '/', '_PYVIZ_COMMS_INSTALLED': '1', 'PYDEVD_USE_FRAME_EVAL': 'NO', 'JPY_PARENT_PID': '96', 'TERM': 'xterm-color', 'CLICOLOR': '1', 'PAGER': 'cat', 'GIT_PAGER': 'cat', 'MPLBACKEND': 'module://matplotlib_inline.backend_inline', 'ENABLE_DIRECTORYPREFETCHER': '1', 'USE_AUTH_EPHEM': '1', 'COLAB_NOTEBOOK_ID': '1owtZE2olyum-ck45w2jbCBC3DeEcJkQ4', 'TELEGRAM_API_ID': '25991276', 'TELEGRAM_API_HASH': 'e3d945cb43e690489f6dbda63cd236e8', 'POSTGRES_HOST': 'ep-royal-brook-adv0o27i-pooler.c-2.us-east-1.aws.neon.tech', 'POSTGRES_DB': 'neondb', 'POSTGRES_USER': 'neondb_owner', 'POSTGRES_PASSWORD': 'npg_WqDPx4Gz7CZd', 'POSTGRES_PORT': '5432'}\n"
          ]
        }
      ]
    },
    {
      "cell_type": "code",
      "source": [
        "import os\n",
        "\n",
        "# Access the environment variables\n",
        "api_id = os.environ.get(\"TELEGRAM_API_ID\")\n",
        "api_hash = os.environ.get(\"TELEGRAM_API_HASH\")\n",
        "\n",
        "print(\"API ID:\", api_id)\n",
        "print(\"API Hash:\", api_hash)\n",
        "\n"
      ],
      "metadata": {
        "colab": {
          "base_uri": "https://localhost:8080/"
        },
        "id": "ys8qMcFzBp4M",
        "outputId": "cc154040-79b3-4258-dbee-3f4e22fee32c"
      },
      "execution_count": 26,
      "outputs": [
        {
          "output_type": "stream",
          "name": "stdout",
          "text": [
            "API ID: 25991276\n",
            "API Hash: e3d945cb43e690489f6dbda63cd236e8\n"
          ]
        }
      ]
    },
    {
      "cell_type": "code",
      "source": [
        "!pip install telethon python-dotenv\n"
      ],
      "metadata": {
        "colab": {
          "base_uri": "https://localhost:8080/"
        },
        "id": "gWVWbFOo01OE",
        "outputId": "ac56f5dd-a881-4da1-8385-0531aaa3665f"
      },
      "execution_count": 27,
      "outputs": [
        {
          "output_type": "stream",
          "name": "stdout",
          "text": [
            "Requirement already satisfied: telethon in /usr/local/lib/python3.11/dist-packages (1.40.0)\n",
            "Requirement already satisfied: python-dotenv in /usr/local/lib/python3.11/dist-packages (1.1.1)\n",
            "Requirement already satisfied: pyaes in /usr/local/lib/python3.11/dist-packages (from telethon) (1.6.1)\n",
            "Requirement already satisfied: rsa in /usr/local/lib/python3.11/dist-packages (from telethon) (4.9.1)\n",
            "Requirement already satisfied: pyasn1>=0.1.3 in /usr/local/lib/python3.11/dist-packages (from rsa->telethon) (0.6.1)\n"
          ]
        }
      ]
    },
    {
      "cell_type": "code",
      "source": [
        "from telethon.sync import TelegramClient\n",
        "import os\n",
        "from dotenv import load_dotenv\n",
        "\n",
        "# Load environment variables\n",
        "load_dotenv()\n",
        "\n",
        "api_id = os.environ.get(\"TELEGRAM_API_ID\")\n",
        "api_hash = os.environ.get(\"TELEGRAM_API_HASH\")\n",
        "\n",
        "# Create a Telethon client session\n",
        "client = TelegramClient(\"ethiomed_session\", api_id, api_hash)\n"
      ],
      "metadata": {
        "id": "xgUxl4YV1DLh"
      },
      "execution_count": 28,
      "outputs": []
    },
    {
      "cell_type": "code",
      "source": [
        "from telethon.tl.types import MessageMediaPhoto\n",
        "import json\n",
        "from datetime import datetime\n",
        "\n",
        "async def scrape_channel(channel_username, limit=100):\n",
        "    await client.start()\n",
        "    messages = []\n",
        "    async for message in client.iter_messages(channel_username, limit=limit):\n",
        "        msg_data = {\n",
        "            \"id\": message.id,\n",
        "            \"date\": message.date.isoformat(),\n",
        "            \"text\": message.text,\n",
        "            \"has_image\": isinstance(message.media, MessageMediaPhoto),\n",
        "            \"sender_id\": message.sender_id\n",
        "        }\n",
        "        messages.append(msg_data)\n",
        "\n",
        "    # Save to JSON\n",
        "    date_str = datetime.now().strftime(\"%Y-%m-%d\")\n",
        "    filename = f\"data/raw/{date_str}/{channel_username}.json\"\n",
        "    os.makedirs(os.path.dirname(filename), exist_ok=True)\n",
        "    with open(filename, \"w\", encoding=\"utf-8\") as f:\n",
        "        json.dump(messages, f, ensure_ascii=False, indent=2)\n",
        "\n",
        "    print(f\"Saved {len(messages)} messages from {channel_username} to {filename}\")\n"
      ],
      "metadata": {
        "id": "zL6TQRqp1MqC"
      },
      "execution_count": 29,
      "outputs": []
    },
    {
      "cell_type": "code",
      "source": [
        "import asyncio\n",
        "\n",
        "async def main():\n",
        "    async with client:\n",
        "        await scrape_channel(\"lobelia4cosmetics\", limit=100)\n",
        "\n",
        "await main("
      ],
      "metadata": {
        "colab": {
          "base_uri": "https://localhost:8080/",
          "height": 288
        },
        "id": "qBzngjgY1OTk",
        "outputId": "ba3b0eb6-9ead-4830-c749-1572d72ac99d"
      },
      "execution_count": 30,
      "outputs": [
        {
          "output_type": "error",
          "ename": "RuntimeError",
          "evalue": "You must use \"async with\" if the event loop is running (i.e. you are inside an \"async def\")",
          "traceback": [
            "\u001b[0;31m---------------------------------------------------------------------------\u001b[0m",
            "\u001b[0;31mRuntimeError\u001b[0m                              Traceback (most recent call last)",
            "\u001b[0;32m/tmp/ipython-input-1496377017.py\u001b[0m in \u001b[0;36m<cell line: 0>\u001b[0;34m()\u001b[0m\n\u001b[0;32m----> 1\u001b[0;31m \u001b[0;32mwith\u001b[0m \u001b[0mclient\u001b[0m\u001b[0;34m:\u001b[0m\u001b[0;34m\u001b[0m\u001b[0;34m\u001b[0m\u001b[0m\n\u001b[0m\u001b[1;32m      2\u001b[0m     \u001b[0mclient\u001b[0m\u001b[0;34m.\u001b[0m\u001b[0mloop\u001b[0m\u001b[0;34m.\u001b[0m\u001b[0mrun_until_complete\u001b[0m\u001b[0;34m(\u001b[0m\u001b[0mscrape_channel\u001b[0m\u001b[0;34m(\u001b[0m\u001b[0;34m\"lobelia4cosmetics\"\u001b[0m\u001b[0;34m,\u001b[0m \u001b[0mlimit\u001b[0m\u001b[0;34m=\u001b[0m\u001b[0;36m100\u001b[0m\u001b[0;34m)\u001b[0m\u001b[0;34m)\u001b[0m\u001b[0;34m\u001b[0m\u001b[0;34m\u001b[0m\u001b[0m\n",
            "\u001b[0;32m/usr/local/lib/python3.11/dist-packages/telethon/helpers.py\u001b[0m in \u001b[0;36m_sync_enter\u001b[0;34m(self)\u001b[0m\n\u001b[1;32m    212\u001b[0m \u001b[0;34m\u001b[0m\u001b[0m\n\u001b[1;32m    213\u001b[0m     \u001b[0;32mif\u001b[0m \u001b[0mloop\u001b[0m\u001b[0;34m.\u001b[0m\u001b[0mis_running\u001b[0m\u001b[0;34m(\u001b[0m\u001b[0;34m)\u001b[0m\u001b[0;34m:\u001b[0m\u001b[0;34m\u001b[0m\u001b[0;34m\u001b[0m\u001b[0m\n\u001b[0;32m--> 214\u001b[0;31m         raise RuntimeError(\n\u001b[0m\u001b[1;32m    215\u001b[0m             \u001b[0;34m'You must use \"async with\" if the event loop '\u001b[0m\u001b[0;34m\u001b[0m\u001b[0;34m\u001b[0m\u001b[0m\n\u001b[1;32m    216\u001b[0m             \u001b[0;34m'is running (i.e. you are inside an \"async def\")'\u001b[0m\u001b[0;34m\u001b[0m\u001b[0;34m\u001b[0m\u001b[0m\n",
            "\u001b[0;31mRuntimeError\u001b[0m: You must use \"async with\" if the event loop is running (i.e. you are inside an \"async def\")"
          ]
        }
      ]
    },
    {
      "cell_type": "code",
      "source": [
        "from telethon.sync import TelegramClient\n",
        "from telethon.tl.types import MessageMediaPhoto\n",
        "import os, json\n",
        "from datetime import datetime\n",
        "from dotenv import load_dotenv\n",
        "\n",
        "load_dotenv()\n",
        "\n",
        "api_id = os.environ.get(\"TELEGRAM_API_ID\")\n",
        "api_hash = os.environ.get(\"TELEGRAM_API_HASH\")\n",
        "\n",
        "client = TelegramClient(\"ethiomed_session\", api_id, api_hash)\n",
        "\n",
        "async def scrape_channel(channel_username, limit=100):\n",
        "    await client.start()\n",
        "    messages = []\n",
        "    async for message in client.iter_messages(channel_username, limit=limit):\n",
        "        msg_data = {\n",
        "            \"id\": message.id,\n",
        "            \"date\": message.date.isoformat(),\n",
        "            \"text\": message.text,\n",
        "            \"has_image\": isinstance(message.media, MessageMediaPhoto),\n",
        "            \"sender_id\": message.sender_id\n",
        "        }\n",
        "        messages.append(msg_data)\n",
        "\n",
        "    # Save to JSON\n",
        "    date_str = datetime.now().strftime(\"%Y-%m-%d\")\n",
        "    filename = f\"data/raw/{date_str}/{channel_username}.json\"\n",
        "    os.makedirs(os.path.dirname(filename), exist_ok=True)\n",
        "    with open(filename, \"w\", encoding=\"utf-8\") as f:\n",
        "        json.dump(messages, f, ensure_ascii=False, indent=2)\n",
        "\n",
        "    print(f\"Saved {len(messages)} messages from {channel_username} to {filename}\")\n"
      ],
      "metadata": {
        "id": "kNQcz-i84rS6"
      },
      "execution_count": 31,
      "outputs": []
    },
    {
      "cell_type": "code",
      "source": [
        "await scrape_channel(\"lobelia4cosmetics\", limit=100)\n"
      ],
      "metadata": {
        "colab": {
          "base_uri": "https://localhost:8080/"
        },
        "id": "cKMrVV0_4tH5",
        "outputId": "4a4c8dad-1f1e-41a7-b853-47bacc33e30b"
      },
      "execution_count": 33,
      "outputs": [
        {
          "output_type": "stream",
          "name": "stdout",
          "text": [
            "Please enter your phone (or bot token): +251923462419\n",
            "Please enter the code you received: 62102\n",
            "Please enter your password: ··········\n",
            "Signed in successfully as Yalem; remember to not break the ToS or you will risk an account ban!\n",
            "Saved 100 messages from lobelia4cosmetics to data/raw/2025-08-07/lobelia4cosmetics.json\n"
          ]
        }
      ]
    },
    {
      "cell_type": "code",
      "source": [
        "channels = [\n",
        "    \"lobelia4cosmetics\",\n",
        "    \"tikvahpharma\",\n",
        "    # Add more from https://et.tgstat.com/medicine\n",
        "]\n",
        "\n",
        "for channel in channels:\n",
        "    await scrape_channel(channel, limit=100)\n"
      ],
      "metadata": {
        "colab": {
          "base_uri": "https://localhost:8080/"
        },
        "id": "pA-DbQeH5SdG",
        "outputId": "72a9688b-0ab7-4fbc-c50c-4d253f497b0f"
      },
      "execution_count": 34,
      "outputs": [
        {
          "output_type": "stream",
          "name": "stdout",
          "text": [
            "Saved 100 messages from lobelia4cosmetics to data/raw/2025-08-07/lobelia4cosmetics.json\n",
            "Saved 100 messages from tikvahpharma to data/raw/2025-08-07/tikvahpharma.json\n"
          ]
        }
      ]
    },
    {
      "cell_type": "code",
      "source": [
        "from telethon.tl.types import MessageMediaPhoto\n",
        "from telethon.utils import get_display_name\n",
        "import os\n",
        "\n",
        "async def download_images(channel_username, limit=100):\n",
        "    await client.start()\n",
        "    date_str = datetime.now().strftime(\"%Y-%m-%d\")\n",
        "    image_dir = f\"data/raw/images/{date_str}/{channel_username}/\"\n",
        "    os.makedirs(image_dir, exist_ok=True)\n",
        "\n",
        "    count = 0\n",
        "    async for message in client.iter_messages(channel_username, limit=limit):\n",
        "        if isinstance(message.media, MessageMediaPhoto):\n",
        "            file_path = os.path.join(image_dir, f\"{channel_username}_{message.id}.jpg\")\n",
        "            await message.download_media(file=file_path)\n",
        "            count += 1\n",
        "\n",
        "    print(f\"Downloaded {count} images from {channel_username} to {image_dir}\")\n"
      ],
      "metadata": {
        "id": "A1kyqaJN5cu5"
      },
      "execution_count": 35,
      "outputs": []
    },
    {
      "cell_type": "code",
      "source": [
        "await download_images(\"lobelia4cosmetics\", limit=100)\n"
      ],
      "metadata": {
        "colab": {
          "base_uri": "https://localhost:8080/"
        },
        "id": "ICcHvh9v5eUM",
        "outputId": "1adae0cb-305b-4f1a-cdf3-750f4a8796c8"
      },
      "execution_count": 36,
      "outputs": [
        {
          "output_type": "stream",
          "name": "stdout",
          "text": [
            "Downloaded 100 images from lobelia4cosmetics to data/raw/images/2025-08-07/lobelia4cosmetics/\n"
          ]
        }
      ]
    },
    {
      "cell_type": "code",
      "source": [
        "!pip install psycopg2-binary\n"
      ],
      "metadata": {
        "colab": {
          "base_uri": "https://localhost:8080/"
        },
        "id": "TGmlrBwb6IOc",
        "outputId": "25bccb13-384c-4f40-f316-f2754e77fe15"
      },
      "execution_count": 37,
      "outputs": [
        {
          "output_type": "stream",
          "name": "stdout",
          "text": [
            "Requirement already satisfied: psycopg2-binary in /usr/local/lib/python3.11/dist-packages (2.9.10)\n"
          ]
        }
      ]
    },
    {
      "cell_type": "code",
      "source": [
        "import os\n",
        "import json\n",
        "import psycopg2\n",
        "from datetime import datetime\n",
        "from dotenv import load_dotenv\n",
        "\n",
        "# Load environment variables\n",
        "load_dotenv()\n",
        "\n",
        "# PostgreSQL connection parameters\n",
        "DB_HOST = os.getenv(\"POSTGRES_HOST\")\n",
        "DB_PORT = os.getenv(\"POSTGRES_PORT\")\n",
        "DB_NAME = os.getenv(\"POSTGRES_DB\")\n",
        "DB_USER = os.getenv(\"POSTGRES_USER\")\n",
        "DB_PASSWORD = os.getenv(\"POSTGRES_PASSWORD\")\n",
        "\n",
        "# Connect to PostgreSQL\n",
        "conn = psycopg2.connect(\n",
        "    host=DB_HOST,\n",
        "    port=DB_PORT,\n",
        "    dbname=DB_NAME,\n",
        "    user=DB_USER,\n",
        "    password=DB_PASSWORD\n",
        ")\n",
        "cursor = conn.cursor()\n",
        "\n",
        "# Create raw schema and telegram_messages table if not exists\n",
        "cursor.execute(\"\"\"\n",
        "CREATE SCHEMA IF NOT EXISTS raw;\n",
        "\n",
        "CREATE TABLE IF NOT EXISTS raw.telegram_messages (\n",
        "    id BIGINT,\n",
        "    date TIMESTAMP,\n",
        "    text TEXT,\n",
        "    has_image BOOLEAN,\n",
        "    sender_id BIGINT,\n",
        "    channel_name TEXT\n",
        ");\n",
        "\"\"\")\n",
        "conn.commit()\n",
        "\n",
        "# Load JSON files from data/raw/2025-08-07/\n",
        "data_dir = \"data/raw/2025-08-07/\"\n",
        "for filename in os.listdir(data_dir):\n",
        "    if filename.endswith(\".json\"):\n",
        "        channel_name = filename.replace(\".json\", \"\")\n",
        "        with open(os.path.join(data_dir, filename), \"r\", encoding=\"utf-8\") as f:\n",
        "            messages = json.load(f)\n",
        "            for msg in messages:\n",
        "                cursor.execute(\"\"\"\n",
        "                    INSERT INTO raw.telegram_messages (id, date, text, has_image, sender_id, channel_name)\n",
        "                    VALUES (%s, %s, %s, %s, %s, %s)\n",
        "                \"\"\", (\n",
        "                    msg.get(\"id\"),\n",
        "                    msg.get(\"date\"),\n",
        "                    msg.get(\"text\"),\n",
        "                    msg.get(\"has_image\"),\n",
        "                    msg.get(\"sender_id\"),\n",
        "                    channel_name\n",
        "                ))\n",
        "conn.commit()\n",
        "cursor.close()\n",
        "conn.close()\n",
        "\n",
        "print(\"Telegram messages successfully loaded into PostgreSQL database.\")\n"
      ],
      "metadata": {
        "colab": {
          "base_uri": "https://localhost:8080/"
        },
        "id": "FPQj5crX6KcX",
        "outputId": "1dffd15f-36e7-4560-8a24-f071201335cf"
      },
      "execution_count": 38,
      "outputs": [
        {
          "output_type": "stream",
          "name": "stdout",
          "text": [
            "Telegram messages successfully loaded into PostgreSQL database.\n"
          ]
        }
      ]
    },
    {
      "cell_type": "code",
      "source": [],
      "metadata": {
        "id": "W-_vtpgo6to8"
      },
      "execution_count": null,
      "outputs": []
    },
    {
      "cell_type": "markdown",
      "source": [],
      "metadata": {
        "id": "XHgabZDq43fL"
      }
    }
  ]
}